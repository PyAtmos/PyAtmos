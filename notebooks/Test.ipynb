{
 "cells": [
  {
   "cell_type": "code",
   "execution_count": 1,
   "metadata": {},
   "outputs": [
    {
     "name": "stdout",
     "output_type": "stream",
     "text": [
      "Initializing Docker...\n",
      "Pulling latest image... registry.gitlab.com/frontierdevelopmentlab/astrobiology/pyatmos\n",
      "Initialization complete: 2018-07-31 18:21:53\n",
      "Starting Docker container...\n",
      "Container 'condescending_borg' running at 2018-07-31 18:21:54.\n"
     ]
    },
    {
     "data": {
      "text/plain": [
       "1533086514"
      ]
     },
     "execution_count": 1,
     "metadata": {},
     "output_type": "execute_result"
    }
   ],
   "source": [
    "import pyatmos\n",
    "atmos = pyatmos.Simulation(docker_image=\"registry.gitlab.com/frontierdevelopmentlab/astrobiology/pyatmos\",\n",
    "                           DEBUG=True)\n",
    "atmos.start()\n",
    "pyatmos.util.UTC_now()"
   ]
  },
  {
   "cell_type": "code",
   "execution_count": null,
   "metadata": {},
   "outputs": [
    {
     "name": "stdout",
     "output_type": "stream",
     "text": [
      "DEBUG run: cd /code/atmos\n",
      "DEBUG _copy_container_file: docker cp condescending_borg:/code/atmos/PHOTOCHEM/INPUTFILES/species.dat /var/folders/t1/xhhxt12502bcgyn1r77j10m00000gn/T/tmpptq5j4nu\n",
      "['N2']\n",
      "DEBUG _write_container_file: docker cp /var/folders/t1/xhhxt12502bcgyn1r77j10m00000gn/T/tmp710l9vzv condescending_borg:/code/atmos/PHOTOCHEM/INPUTFILES/species.dat\n",
      "Modified species file with:\n",
      "{'O2': 0.21, 'N2': 0.7772982887, 'H2O': 0.0123, 'CH4': 1.63e-06, 'CO2': 0.0004, 'H2': 8.13e-08}\n",
      "DEBUG _copy_container_file: docker cp condescending_borg:/code/atmos/PHOTOCHEM/OUTPUT/out.out /var/folders/t1/xhhxt12502bcgyn1r77j10m00000gn/T/tmpanlfa0a3\n",
      "photochem finished after 40 iterations\n",
      "DEBUG _run_photochem: photochem took 8 seconds\n",
      "DEBUG _copy_container_file: docker cp condescending_borg:/code/atmos/PHOTOCHEM/OUTPUT/out.out /Users/Will/Documents/FDL/results/run11\n",
      "DEBUG _copy_container_file: docker cp condescending_borg:/code/atmos/PHOTOCHEM/OUTPUT/out.dist /Users/Will/Documents/FDL/results/run11\n",
      "DEBUG _copy_container_file: docker cp condescending_borg:/code/atmos/PHOTOCHEM/INPUTFILES/species.dat /Users/Will/Documents/FDL/results/run11\n",
      "DEBUG _copy_container_file: docker cp condescending_borg:/code/atmos/PHOTOCHEM/in.dist /Users/Will/Documents/FDL/results/run11\n",
      "DEBUG _run_photochem: cp  /code/atmos/PHOTOCHEM/OUTPUT/out.dist /PHOTOCHEM/in.dist.\n",
      "photochem converged\n",
      "DEBUG _copy_container_file: docker cp condescending_borg:/code/atmos/CLIMA/IO/input_clima.dat /var/folders/t1/xhhxt12502bcgyn1r77j10m00000gn/T/tmpa2s4d1yv\n",
      "DEBUG _write_container_file: docker cp /var/folders/t1/xhhxt12502bcgyn1r77j10m00000gn/T/tmp06j3y22u condescending_borg:/code/atmos/CLIMA/IO/input_clima.dat\n",
      "DEBUG _run_clima: cp  /code/atmos/CLIMA/IO/TempOut.dat /code/atmos/CLIMA/IO/TempIn.dat\n",
      "DEBUG _run_clima: sed -i 's/IUP=       1/IUP=       0/g' /code/atmos/CLIMA/IO/input_clima.dat\n",
      "running clima with 400 steps ...\n"
     ]
    }
   ],
   "source": [
    "atmos.run(species_concentrations={\n",
    "                                \"O2\"  : 0.21, \n",
    "                                \"N2\"  : 0.7772982887, \n",
    "                                \"H2O\" : 0.0123, \n",
    "                                \"CH4\" : 0.00000163, \n",
    "                                \"CO2\" : 0.0004, \n",
    "                                \"H2\"  : 0.0000000813\n",
    "                                }, \n",
    "          max_photochem_iterations=10000, \n",
    "          max_clima_steps=400, \n",
    "          output_directory='/Users/Will/Documents/FDL/results/run11'\n",
    "         )"
   ]
  },
  {
   "cell_type": "code",
   "execution_count": null,
   "metadata": {},
   "outputs": [
    {
     "name": "stdout",
     "output_type": "stream",
     "text": [
      "DEBUG run: cd /code/atmos\n",
      "DEBUG _copy_container_file: docker cp distracted_joliot:/code/atmos/PHOTOCHEM/INPUTFILES/species.dat /var/folders/t1/xhhxt12502bcgyn1r77j10m00000gn/T/tmpo9t7qjfn\n",
      "['N2']\n",
      "DEBUG _write_container_file: docker cp /var/folders/t1/xhhxt12502bcgyn1r77j10m00000gn/T/tmp5jxe8rq0 distracted_joliot:/code/atmos/PHOTOCHEM/INPUTFILES/species.dat\n",
      "Modified species file with:\n",
      "{'CH4': 0.0004, 'CO2': 8.13e-08, 'O2': 0.0123, 'H2': 1.63e-06, 'H2O': 0.7772982887, 'N2': 0.21}\n",
      "DEBUG _copy_container_file: docker cp distracted_joliot:/code/atmos/PHOTOCHEM/OUTPUT/out.out /var/folders/t1/xhhxt12502bcgyn1r77j10m00000gn/T/tmpkincd47a\n",
      "photochem finished after 404 iterations\n",
      "DEBUG _run_photochem: photochem took 81 seconds\n",
      "DEBUG _copy_container_file: docker cp distracted_joliot:/code/atmos/PHOTOCHEM/OUTPUT/out.out /Users/Will/Documents/FDL/results/run10\n",
      "DEBUG _copy_container_file: docker cp distracted_joliot:/code/atmos/PHOTOCHEM/OUTPUT/out.dist /Users/Will/Documents/FDL/results/run10\n",
      "DEBUG _copy_container_file: docker cp distracted_joliot:/code/atmos/PHOTOCHEM/INPUTFILES/species.dat /Users/Will/Documents/FDL/results/run10\n",
      "DEBUG _copy_container_file: docker cp distracted_joliot:/code/atmos/PHOTOCHEM/in.dist /Users/Will/Documents/FDL/results/run10\n",
      "DEBUG _run_photochem: cp  /code/atmos/PHOTOCHEM/OUTPUT/out.dist /PHOTOCHEM/in.dist.\n",
      "photochem converged\n",
      "DEBUG _copy_container_file: docker cp distracted_joliot:/code/atmos/CLIMA/IO/input_clima.dat /var/folders/t1/xhhxt12502bcgyn1r77j10m00000gn/T/tmp08br6zpt\n",
      "DEBUG _write_container_file: docker cp /var/folders/t1/xhhxt12502bcgyn1r77j10m00000gn/T/tmp80i65fuc distracted_joliot:/code/atmos/CLIMA/IO/input_clima.dat\n",
      "DEBUG _run_clima: cp  /code/atmos/CLIMA/IO/TempOut.dat /code/atmos/CLIMA/IO/TempIn.dat\n",
      "DEBUG _run_clima: sed -i 's/IUP=       1/IUP=       0/g' /code/atmos/CLIMA/IO/input_clima.dat\n",
      "running clima with 400 steps ...\n"
     ]
    }
   ],
   "source": [
    "atmos.run(species_concentrations={\n",
    "                                'CH4': 0.0004,\n",
    "                                'CO2': 8.13e-08, \n",
    "                                'O2': 0.0123, \n",
    "                                'H2': 1.63e-06, \n",
    "                                'H2O': 0.7772982887, \n",
    "                                'N2': 0.21},\n",
    "          max_photochem_iterations=10000, \n",
    "          max_clima_steps=400, \n",
    "          output_directory='/Users/Will/Documents/FDL/results/run10'\n",
    "         )"
   ]
  },
  {
   "cell_type": "code",
   "execution_count": 3,
   "metadata": {},
   "outputs": [
    {
     "data": {
      "text/plain": [
       "{'atmos_start_time': 1533083622,\n",
       " 'photochem_duration': 9,\n",
       " 'photochem_iterations': 40,\n",
       " 'clima_duration': 233,\n",
       " 'atmos_run_duraton': 245,\n",
       " 'input_max_clima_iterations': 400,\n",
       " 'input_max_photochem_iterations': 10000,\n",
       " 'input_species_concentrations': {'O2': 0.21,\n",
       "  'N2': 0.7772982887,\n",
       "  'H2O': 0.0123,\n",
       "  'CH4': 1.63e-06,\n",
       "  'CO2': 0.0004,\n",
       "  'H2': 8.13e-08}}"
      ]
     },
     "execution_count": 3,
     "metadata": {},
     "output_type": "execute_result"
    }
   ],
   "source": [
    "atmos.get_metadata()"
   ]
  },
  {
   "cell_type": "code",
   "execution_count": 5,
   "metadata": {},
   "outputs": [
    {
     "name": "stdout",
     "output_type": "stream",
     "text": [
      "Exiting...\n",
      "Container killed.\n"
     ]
    }
   ],
   "source": [
    "atmos.close()"
   ]
  }
 ],
 "metadata": {
  "kernelspec": {
   "display_name": "Python 3",
   "language": "python",
   "name": "python3"
  },
  "language_info": {
   "codemirror_mode": {
    "name": "ipython",
    "version": 3
   },
   "file_extension": ".py",
   "mimetype": "text/x-python",
   "name": "python",
   "nbconvert_exporter": "python",
   "pygments_lexer": "ipython3",
   "version": "3.6.5"
  }
 },
 "nbformat": 4,
 "nbformat_minor": 2
}
