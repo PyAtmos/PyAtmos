{
 "cells": [
  {
   "cell_type": "code",
   "execution_count": 1,
   "metadata": {},
   "outputs": [
    {
     "name": "stdout",
     "output_type": "stream",
     "text": [
      "Initializing Docker...\n",
      "Pulling latest image... registry.gitlab.com/frontierdevelopmentlab/astrobiology/pyatmos\n",
      "Initialization complete: 2018-07-31 17:06:54\n",
      "Starting Docker container...\n",
      "Container 'determined_lewin' running at 2018-07-31 17:06:55.\n"
     ]
    }
   ],
   "source": [
    "import pyatmos\n",
    "atmos = pyatmos.Simulation(docker_image=\"registry.gitlab.com/frontierdevelopmentlab/astrobiology/pyatmos\",\n",
    "                           DEBUG=True)\n",
    "atmos.start()"
   ]
  },
  {
   "cell_type": "code",
   "execution_count": null,
   "metadata": {},
   "outputs": [
    {
     "name": "stdout",
     "output_type": "stream",
     "text": [
      "generic run ... cd /code/atmos\n",
      "DEBUG run: cd /code/atmos\n",
      "DEBUG _copy_container_file: docker cp determined_lewin:/code/atmos/PHOTOCHEM/INPUTFILES/species.dat /var/folders/t1/xhhxt12502bcgyn1r77j10m00000gn/T/tmp35w0raro\n",
      "DEBUG _write_container_file: docker cp /var/folders/t1/xhhxt12502bcgyn1r77j10m00000gn/T/tmp27t0h_qh determined_lewin:/code/atmos/PHOTOCHEM/INPUTFILES/species.dat\n",
      "Modified species file with:\n",
      "{'O2': 0.25}\n",
      "generic run ... cd /code/atmos && ./Photo.run\n",
      "DEBUG _run_photochem: cd /code/atmos && ./Photo.run\n",
      "DEBUG _copy_container_file: docker cp determined_lewin:/code/atmos/PHOTOCHEM/OUTPUT/out.out /var/folders/t1/xhhxt12502bcgyn1r77j10m00000gn/T/tmpkf7btoef\n",
      "photochem finished after 40 iterations\n",
      "DEBUG _run_photochem: photochem took 0 seconds\n",
      "DEBUG _copy_container_file: docker cp determined_lewin:/code/atmos/PHOTOCHEM/OUTPUT/out.out /Users/Will/Documents/FDL/results/run4\n",
      "DEBUG _copy_container_file: docker cp determined_lewin:/code/atmos/PHOTOCHEM/OUTPUT/out.dist /Users/Will/Documents/FDL/results/run4\n",
      "DEBUG _copy_container_file: docker cp determined_lewin:/code/atmos/PHOTOCHEM/INPUTFILES/species.dat /Users/Will/Documents/FDL/results/run4\n",
      "DEBUG _copy_container_file: docker cp determined_lewin:/code/atmos/PHOTOCHEM/in.dist /Users/Will/Documents/FDL/results/run4\n",
      "generic run ... cp  /code/atmos/PHOTOCHEM/OUTPUT/out.dist /PHOTOCHEM/in.dist.\n",
      "DEBUG _run_photochem: cp  /code/atmos/PHOTOCHEM/OUTPUT/out.dist /PHOTOCHEM/in.dist.\n",
      "photochem converged\n",
      "DEBUG _copy_container_file: docker cp determined_lewin:/code/atmos/CLIMA/IO/input_clima.dat /var/folders/t1/xhhxt12502bcgyn1r77j10m00000gn/T/tmppgp1548x\n",
      "DEBUG _write_container_file: docker cp /var/folders/t1/xhhxt12502bcgyn1r77j10m00000gn/T/tmpqk6tnvlm determined_lewin:/code/atmos/CLIMA/IO/input_clima.dat\n",
      "generic run ... cp  /code/atmos/CLIMA/IO/TempOut.dat /code/atmos/CLIMA/IO/TempIn.dat\n",
      "DEBUG _run_clima: cp  /code/atmos/CLIMA/IO/TempOut.dat /code/atmos/CLIMA/IO/TempIn.dat\n",
      "generic run ... sed -i 's/IUP=       1/IUP=       0/g' /code/atmos/CLIMA/IO/input_clima.dat\n",
      "DEBUG _run_clima: sed -i 's/IUP=       1/IUP=       0/g' /code/atmos/CLIMA/IO/input_clima.dat\n",
      "running clima with 400 steps ...\n"
     ]
    }
   ],
   "source": [
    "atmos.run(species_concentrations={'O2' : 0.25}, \n",
    "          max_photochem_iterations=10000, \n",
    "          max_clima_steps=400, \n",
    "          output_directory='/Users/Will/Documents/FDL/results/run4'\n",
    "         )"
   ]
  },
  {
   "cell_type": "code",
   "execution_count": 3,
   "metadata": {},
   "outputs": [
    {
     "data": {
      "text/plain": [
       "{'atmos_start_time': 1533081625,\n",
       " 'photochem_duration': 0,\n",
       " 'photochem_iterations': 40,\n",
       " 'clima_duration': 231,\n",
       " 'atmos_run_duraton': 234,\n",
       " 'input_max_clima_iterations': 400,\n",
       " 'input_max_photochem_iterations': 10000,\n",
       " 'input_species_concentrations': {'O2': 0.25}}"
      ]
     },
     "execution_count": 3,
     "metadata": {},
     "output_type": "execute_result"
    }
   ],
   "source": [
    "atmos.get_metadata()"
   ]
  },
  {
   "cell_type": "code",
   "execution_count": 5,
   "metadata": {},
   "outputs": [
    {
     "name": "stdout",
     "output_type": "stream",
     "text": [
      "Exiting...\n",
      "Container killed.\n"
     ]
    }
   ],
   "source": [
    "atmos.close()"
   ]
  }
 ],
 "metadata": {
  "kernelspec": {
   "display_name": "Python 3",
   "language": "python",
   "name": "python3"
  },
  "language_info": {
   "codemirror_mode": {
    "name": "ipython",
    "version": 3
   },
   "file_extension": ".py",
   "mimetype": "text/x-python",
   "name": "python",
   "nbconvert_exporter": "python",
   "pygments_lexer": "ipython3",
   "version": "3.6.5"
  }
 },
 "nbformat": 4,
 "nbformat_minor": 2
}
