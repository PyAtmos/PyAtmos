{
 "cells": [
  {
   "cell_type": "code",
   "execution_count": 1,
   "metadata": {},
   "outputs": [
    {
     "name": "stdout",
     "output_type": "stream",
     "text": [
      "Initializing Docker...\n",
      "Pulling latest image... registry.gitlab.com/frontierdevelopmentlab/astrobiology/pyatmos\n",
      "Initialization complete: 2018-07-31 17:32:33\n",
      "Starting Docker container...\n",
      "Container 'jolly_jang' running at 2018-07-31 17:32:33.\n"
     ]
    }
   ],
   "source": [
    "import pyatmos\n",
    "atmos = pyatmos.Simulation(docker_image=\"registry.gitlab.com/frontierdevelopmentlab/astrobiology/pyatmos\",\n",
    "                           DEBUG=True)\n",
    "atmos.start()"
   ]
  },
  {
   "cell_type": "code",
   "execution_count": 2,
   "metadata": {},
   "outputs": [
    {
     "name": "stdout",
     "output_type": "stream",
     "text": [
      "DEBUG run: cd /code/atmos\n",
      "DEBUG _copy_container_file: docker cp jolly_jang:/code/atmos/PHOTOCHEM/INPUTFILES/species.dat /var/folders/t1/xhhxt12502bcgyn1r77j10m00000gn/T/tmpelfs5xwl\n",
      "['N2']\n"
     ]
    },
    {
     "ename": "TypeError",
     "evalue": "must be str, not float",
     "output_type": "error",
     "traceback": [
      "\u001b[0;31m---------------------------------------------------------------------------\u001b[0m",
      "\u001b[0;31mTypeError\u001b[0m                                 Traceback (most recent call last)",
      "\u001b[0;32m<ipython-input-2-a213fc4ae64c>\u001b[0m in \u001b[0;36m<module>\u001b[0;34m()\u001b[0m\n\u001b[1;32m      9\u001b[0m           \u001b[0mmax_photochem_iterations\u001b[0m\u001b[0;34m=\u001b[0m\u001b[0;36m10000\u001b[0m\u001b[0;34m,\u001b[0m\u001b[0;34m\u001b[0m\u001b[0m\n\u001b[1;32m     10\u001b[0m           \u001b[0mmax_clima_steps\u001b[0m\u001b[0;34m=\u001b[0m\u001b[0;36m400\u001b[0m\u001b[0;34m,\u001b[0m\u001b[0;34m\u001b[0m\u001b[0m\n\u001b[0;32m---> 11\u001b[0;31m           \u001b[0moutput_directory\u001b[0m\u001b[0;34m=\u001b[0m\u001b[0;34m'/Users/Will/Documents/FDL/results/run10'\u001b[0m\u001b[0;34m\u001b[0m\u001b[0m\n\u001b[0m\u001b[1;32m     12\u001b[0m          )\n",
      "\u001b[0;32m~/Documents/FDL/pyatmos/pyatmos/simulation.py\u001b[0m in \u001b[0;36mrun\u001b[0;34m(self, species_concentrations, max_photochem_iterations, max_clima_steps, input_file_path, output_directory)\u001b[0m\n\u001b[1;32m    144\u001b[0m \u001b[0;34m\u001b[0m\u001b[0m\n\u001b[1;32m    145\u001b[0m         \u001b[0;31m# run the photochemical model\u001b[0m\u001b[0;34m\u001b[0m\u001b[0;34m\u001b[0m\u001b[0m\n\u001b[0;32m--> 146\u001b[0;31m         \u001b[0mphotochem_converged\u001b[0m \u001b[0;34m=\u001b[0m \u001b[0mself\u001b[0m\u001b[0;34m.\u001b[0m\u001b[0m_run_photochem\u001b[0m\u001b[0;34m(\u001b[0m\u001b[0mspecies_concentrations\u001b[0m\u001b[0;34m,\u001b[0m \u001b[0mmax_photochem_iterations\u001b[0m\u001b[0;34m,\u001b[0m \u001b[0moutput_directory\u001b[0m\u001b[0;34m,\u001b[0m \u001b[0minput_file_path\u001b[0m\u001b[0;34m)\u001b[0m\u001b[0;34m\u001b[0m\u001b[0m\n\u001b[0m\u001b[1;32m    147\u001b[0m \u001b[0;34m\u001b[0m\u001b[0m\n\u001b[1;32m    148\u001b[0m         \u001b[0;31m# if photochem didn't converge, exit\u001b[0m\u001b[0;34m\u001b[0m\u001b[0;34m\u001b[0m\u001b[0m\n",
      "\u001b[0;32m~/Documents/FDL/pyatmos/pyatmos/simulation.py\u001b[0m in \u001b[0;36m_run_photochem\u001b[0;34m(self, species_concentrations, max_photochem_iterations, output_directory, input_file_path)\u001b[0m\n\u001b[1;32m    199\u001b[0m         \u001b[0;31m# modify species file, changes the concentrations inside species.dat as specified by species_concentrations\u001b[0m\u001b[0;34m\u001b[0m\u001b[0;34m\u001b[0m\u001b[0m\n\u001b[1;32m    200\u001b[0m         \u001b[0;31m################################\u001b[0m\u001b[0;34m\u001b[0m\u001b[0;34m\u001b[0m\u001b[0m\n\u001b[0;32m--> 201\u001b[0;31m         \u001b[0mself\u001b[0m\u001b[0;34m.\u001b[0m\u001b[0m_modify_atmospheric_species\u001b[0m\u001b[0;34m(\u001b[0m\u001b[0mself\u001b[0m\u001b[0;34m.\u001b[0m\u001b[0m_atmos_directory\u001b[0m\u001b[0;34m+\u001b[0m\u001b[0;34m'/PHOTOCHEM/INPUTFILES/species.dat'\u001b[0m\u001b[0;34m,\u001b[0m \u001b[0mspecies_concentrations\u001b[0m\u001b[0;34m)\u001b[0m\u001b[0;34m\u001b[0m\u001b[0m\n\u001b[0m\u001b[1;32m    202\u001b[0m         \u001b[0mprint\u001b[0m\u001b[0;34m(\u001b[0m\u001b[0;34m'Modified species file with:'\u001b[0m\u001b[0;34m)\u001b[0m\u001b[0;34m\u001b[0m\u001b[0m\n\u001b[1;32m    203\u001b[0m         \u001b[0mprint\u001b[0m\u001b[0;34m(\u001b[0m\u001b[0mspecies_concentrations\u001b[0m\u001b[0;34m)\u001b[0m\u001b[0;34m\u001b[0m\u001b[0m\n",
      "\u001b[0;32m~/Documents/FDL/pyatmos/pyatmos/simulation.py\u001b[0m in \u001b[0;36m_modify_atmospheric_species\u001b[0;34m(self, species_file_name, species_concentrations)\u001b[0m\n\u001b[1;32m    326\u001b[0m         \u001b[0mofile\u001b[0m\u001b[0;34m.\u001b[0m\u001b[0mwrite\u001b[0m\u001b[0;34m(\u001b[0m \u001b[0mpyatmos\u001b[0m\u001b[0;34m.\u001b[0m\u001b[0mmodify_species_file\u001b[0m\u001b[0;34m.\u001b[0m\u001b[0mwrite_species_long_lived\u001b[0m\u001b[0;34m(\u001b[0m\u001b[0mlong_lived_species\u001b[0m\u001b[0;34m,\u001b[0m   \u001b[0mspecies_concentrations\u001b[0m\u001b[0;34m)\u001b[0m \u001b[0;34m)\u001b[0m\u001b[0;34m\u001b[0m\u001b[0m\n\u001b[1;32m    327\u001b[0m         \u001b[0mofile\u001b[0m\u001b[0;34m.\u001b[0m\u001b[0mwrite\u001b[0m\u001b[0;34m(\u001b[0m \u001b[0mpyatmos\u001b[0m\u001b[0;34m.\u001b[0m\u001b[0mmodify_species_file\u001b[0m\u001b[0;34m.\u001b[0m\u001b[0mwrite_species_short_lived\u001b[0m\u001b[0;34m(\u001b[0m\u001b[0mshort_lived_species\u001b[0m\u001b[0;34m,\u001b[0m \u001b[0mspecies_concentrations\u001b[0m\u001b[0;34m)\u001b[0m \u001b[0;34m)\u001b[0m\u001b[0;34m\u001b[0m\u001b[0m\n\u001b[0;32m--> 328\u001b[0;31m         \u001b[0mofile\u001b[0m\u001b[0;34m.\u001b[0m\u001b[0mwrite\u001b[0m\u001b[0;34m(\u001b[0m \u001b[0mpyatmos\u001b[0m\u001b[0;34m.\u001b[0m\u001b[0mmodify_species_file\u001b[0m\u001b[0;34m.\u001b[0m\u001b[0mwrite_species_inert\u001b[0m\u001b[0;34m(\u001b[0m\u001b[0minert_species\u001b[0m\u001b[0;34m,\u001b[0m             \u001b[0mspecies_concentrations\u001b[0m\u001b[0;34m)\u001b[0m \u001b[0;34m)\u001b[0m\u001b[0;34m\u001b[0m\u001b[0m\n\u001b[0m\u001b[1;32m    329\u001b[0m         \u001b[0mofile\u001b[0m\u001b[0;34m.\u001b[0m\u001b[0mwrite\u001b[0m\u001b[0;34m(\u001b[0m \u001b[0mpyatmos\u001b[0m\u001b[0;34m.\u001b[0m\u001b[0mmodify_species_file\u001b[0m\u001b[0;34m.\u001b[0m\u001b[0mwrite_species_other\u001b[0m\u001b[0;34m(\u001b[0m\u001b[0mother_species\u001b[0m\u001b[0;34m,\u001b[0m             \u001b[0mspecies_concentrations\u001b[0m\u001b[0;34m)\u001b[0m \u001b[0;34m)\u001b[0m\u001b[0;34m\u001b[0m\u001b[0m\n\u001b[1;32m    330\u001b[0m \u001b[0;34m\u001b[0m\u001b[0m\n",
      "\u001b[0;32m~/Documents/FDL/pyatmos/pyatmos/modify_species_file.py\u001b[0m in \u001b[0;36mwrite_species_inert\u001b[0;34m(original_species, modified_species)\u001b[0m\n\u001b[1;32m    185\u001b[0m         \u001b[0;32mif\u001b[0m \u001b[0mspecies\u001b[0m \u001b[0;32min\u001b[0m \u001b[0mspecies_to_modify\u001b[0m\u001b[0;34m:\u001b[0m\u001b[0;34m\u001b[0m\u001b[0m\n\u001b[1;32m    186\u001b[0m             \u001b[0mprint\u001b[0m\u001b[0;34m(\u001b[0m\u001b[0mspecies_to_modify\u001b[0m\u001b[0;34m)\u001b[0m\u001b[0;34m\u001b[0m\u001b[0m\n\u001b[0;32m--> 187\u001b[0;31m             \u001b[0mnew_line\u001b[0m \u001b[0;34m+=\u001b[0m \u001b[0;34m'    '\u001b[0m\u001b[0;34m+\u001b[0m\u001b[0mmodified_species\u001b[0m\u001b[0;34m[\u001b[0m\u001b[0mspecies\u001b[0m\u001b[0;34m]\u001b[0m\u001b[0;34m\u001b[0m\u001b[0m\n\u001b[0m\u001b[1;32m    188\u001b[0m         \u001b[0;32melse\u001b[0m\u001b[0;34m:\u001b[0m\u001b[0;34m\u001b[0m\u001b[0m\n\u001b[1;32m    189\u001b[0m             \u001b[0mnew_line\u001b[0m \u001b[0;34m+=\u001b[0m \u001b[0;34m'    '\u001b[0m\u001b[0;34m+\u001b[0m\u001b[0moriginal_line\u001b[0m\u001b[0;34m[\u001b[0m\u001b[0;34m'FIXEDMR'\u001b[0m\u001b[0;34m]\u001b[0m\u001b[0;34m\u001b[0m\u001b[0m\n",
      "\u001b[0;31mTypeError\u001b[0m: must be str, not float"
     ]
    }
   ],
   "source": [
    "atmos.run(species_concentrations={\n",
    "                                \"O2\"  : 0.21, \n",
    "                                \"N2\"  : 0.7772982887, \n",
    "                                \"H2O\" : 0.0123, \n",
    "                                \"CH4\" : 0.00000163, \n",
    "                                \"CO2\" : 0.0004, \n",
    "                                \"H2\"  : 0.0000000813\n",
    "                                }, \n",
    "          max_photochem_iterations=10000, \n",
    "          max_clima_steps=400, \n",
    "          output_directory='/Users/Will/Documents/FDL/results/run10'\n",
    "         )"
   ]
  },
  {
   "cell_type": "code",
   "execution_count": 3,
   "metadata": {},
   "outputs": [
    {
     "data": {
      "text/plain": [
       "{'atmos_start_time': 1533082189,\n",
       " 'photochem_duration': 33,\n",
       " 'photochem_iterations': 161,\n",
       " 'clima_duration': 232,\n",
       " 'atmos_run_duraton': 268,\n",
       " 'input_max_clima_iterations': 400,\n",
       " 'input_max_photochem_iterations': 10000,\n",
       " 'input_species_concentrations': {'O2': 0.25}}"
      ]
     },
     "execution_count": 3,
     "metadata": {},
     "output_type": "execute_result"
    }
   ],
   "source": [
    "atmos.get_metadata()"
   ]
  },
  {
   "cell_type": "code",
   "execution_count": 5,
   "metadata": {},
   "outputs": [
    {
     "name": "stdout",
     "output_type": "stream",
     "text": [
      "Exiting...\n",
      "Container killed.\n"
     ]
    }
   ],
   "source": [
    "atmos.close()"
   ]
  }
 ],
 "metadata": {
  "kernelspec": {
   "display_name": "Python 3",
   "language": "python",
   "name": "python3"
  },
  "language_info": {
   "codemirror_mode": {
    "name": "ipython",
    "version": 3
   },
   "file_extension": ".py",
   "mimetype": "text/x-python",
   "name": "python",
   "nbconvert_exporter": "python",
   "pygments_lexer": "ipython3",
   "version": "3.6.5"
  }
 },
 "nbformat": 4,
 "nbformat_minor": 2
}
