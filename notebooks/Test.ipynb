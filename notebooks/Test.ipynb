{
 "cells": [
  {
   "cell_type": "code",
   "execution_count": 1,
   "metadata": {},
   "outputs": [
    {
     "name": "stdout",
     "output_type": "stream",
     "text": [
      "Initializing Docker...\n",
      "Pulling latest image... registry.gitlab.com/frontierdevelopmentlab/astrobiology/pyatmos\n",
      "Initialization complete: 2018-08-01 11:24:35\n",
      "Starting Docker container...\n",
      "Container 'gifted_pike' running at 2018-08-01 11:24:36.\n"
     ]
    }
   ],
   "source": [
    "import pyatmos\n",
    "atmos = pyatmos.Simulation(docker_image=\"registry.gitlab.com/frontierdevelopmentlab/astrobiology/pyatmos\",\n",
    "                           DEBUG=True)\n",
    "atmos.start()"
   ]
  },
  {
   "cell_type": "code",
   "execution_count": 2,
   "metadata": {},
   "outputs": [
    {
     "name": "stdout",
     "output_type": "stream",
     "text": [
      "0 0.25\n",
      "running atmos with args:\n",
      "{'species_concentrations': {'O2': 0.25}, 'max_photochem_iterations': 10000, 'max_clima_steps': 15, 'output_directory': '/Users/Will/Documents/FDL/results/run_2_0'}\n",
      "input arguments:\n",
      "{'O2': 0.25}\n",
      "10000\n",
      "15\n",
      "None\n",
      "None\n",
      "/Users/Will/Documents/FDL/results/run_2_0\n",
      "DEBUG run: cd /code/atmos\n",
      "DEBUG _copy_container_file: docker cp gifted_pike:/code/atmos/PHOTOCHEM/INPUTFILES/species.dat /var/folders/t1/xhhxt12502bcgyn1r77j10m00000gn/T/tmpsi59l5u5\n",
      "DEBUG _write_container_file: docker cp /var/folders/t1/xhhxt12502bcgyn1r77j10m00000gn/T/tmpcxeg3l0j gifted_pike:/code/atmos/PHOTOCHEM/INPUTFILES/species.dat\n",
      "Modified species file with:\n",
      "{'O2': 0.25}\n",
      "DEBUG _copy_container_file: docker cp gifted_pike:/code/atmos/PHOTOCHEM/OUTPUT/out.out /var/folders/t1/xhhxt12502bcgyn1r77j10m00000gn/T/tmpa_xf4swe\n",
      "photochem finished after 161 iterations\n",
      "DEBUG _run_photochem: photochem took 32 seconds\n",
      "DEBUG _copy_container_file: docker cp gifted_pike:/code/atmos/PHOTOCHEM/OUTPUT/out.out /Users/Will/Documents/FDL/results/run_2_0\n",
      "DEBUG _copy_container_file: docker cp gifted_pike:/code/atmos/PHOTOCHEM/OUTPUT/out.dist /Users/Will/Documents/FDL/results/run_2_0\n",
      "DEBUG _copy_container_file: docker cp gifted_pike:/code/atmos/PHOTOCHEM/INPUTFILES/species.dat /Users/Will/Documents/FDL/results/run_2_0\n",
      "DEBUG _copy_container_file: docker cp gifted_pike:/code/atmos/PHOTOCHEM/in.dist /Users/Will/Documents/FDL/results/run_2_0\n",
      "DEBUG _run_photochem: cp  /code/atmos/PHOTOCHEM/OUTPUT/out.dist /PHOTOCHEM/in.dist.\n",
      "photochem converged\n",
      "DEBUG _run_clima: cp  /code/atmos/CLIMA/IO/TempOut.dat /code/atmos/CLIMA/IO/TempIn.dat\n",
      "DEBUG _copy_container_file: docker cp gifted_pike:/code/atmos/CLIMA/IO/input_clima.dat /var/folders/t1/xhhxt12502bcgyn1r77j10m00000gn/T/tmpjfzaa7pi\n",
      "DEBUG _write_container_file: docker cp /var/folders/t1/xhhxt12502bcgyn1r77j10m00000gn/T/tmpa36c_tap gifted_pike:/code/atmos/CLIMA/IO/input_clima.dat\n",
      "DEBUG _run_clima: sed -i 's/IUP=       1/IUP=       0/g' /code/atmos/CLIMA/IO/input_clima.dat\n",
      "running clima with 15 steps ...\n",
      "finished clima\n",
      "DEBUG _run_clima: Clima took 10 seconds\n",
      "DEBUG _copy_container_file: docker cp gifted_pike:/code/atmos/CLIMA/IO/clima_allout.tab /Users/Will/Documents/FDL/results/run_2_0\n",
      "DEBUG _copy_container_file: docker cp gifted_pike:/code/atmos/CLIMA/IO/TempOut.dat /Users/Will/Documents/FDL/results/run_2_0\n",
      "DEBUG _copy_container_file: docker cp gifted_pike:/code/atmos/CLIMA/IO/TempIn.dat /Users/Will/Documents/FDL/results/run_2_0\n",
      "clima converged\n",
      "parse_clima finished\n",
      "flux tables:  4\n",
      "mixing ratio tables:  4\n",
      "Writing /Users/Will/Documents/FDL/results/run_2_0/parsed_photochem_fluxes.csv\n",
      "Writing /Users/Will/Documents/FDL/results/run_2_0/parsed_photochem_mixing_ratios.csv\n",
      "\n",
      "1 0.26\n",
      "running atmos with args:\n",
      "{'species_concentrations': {'O2': 0.26}, 'max_photochem_iterations': 10000, 'max_clima_steps': 15, 'output_directory': '/Users/Will/Documents/FDL/results/run_2_1', 'previous_photochem_solution': '/Users/Will/Documents/FDL/results/run_2_0/out.dist', 'previous_clima_solution': '/Users/Will/Documents/FDL/results/run_2_0/TempIn.dat'}\n",
      "input arguments:\n",
      "{'O2': 0.26}\n",
      "10000\n",
      "15\n",
      "/Users/Will/Documents/FDL/results/run_2_0/out.dist\n",
      "/Users/Will/Documents/FDL/results/run_2_0/TempIn.dat\n",
      "/Users/Will/Documents/FDL/results/run_2_1\n",
      "DEBUG run: cd /code/atmos\n",
      "DEBUG _copy_container_file: docker cp gifted_pike:/code/atmos/PHOTOCHEM/INPUTFILES/species.dat /var/folders/t1/xhhxt12502bcgyn1r77j10m00000gn/T/tmpwmdi1nn0\n",
      "DEBUG _write_container_file: docker cp /var/folders/t1/xhhxt12502bcgyn1r77j10m00000gn/T/tmpufqtlpr4 gifted_pike:/code/atmos/PHOTOCHEM/INPUTFILES/species.dat\n",
      "Modified species file with:\n",
      "{'O2': 0.26}\n",
      "copying previous photochem solution, from /Users/Will/Documents/FDL/results/run_2_0/out.dist to /code/atmos/PHOTOCHEM/in.dist\n",
      "DEBUG _write_container_file: docker cp /Users/Will/Documents/FDL/results/run_2_0/out.dist gifted_pike:/code/atmos/PHOTOCHEM/in.dist\n",
      "DEBUG _copy_container_file: docker cp gifted_pike:/code/atmos/PHOTOCHEM/OUTPUT/out.out /var/folders/t1/xhhxt12502bcgyn1r77j10m00000gn/T/tmp9jv5qeh4\n",
      "photochem finished after 92 iterations\n",
      "DEBUG _run_photochem: photochem took 19 seconds\n",
      "DEBUG _copy_container_file: docker cp gifted_pike:/code/atmos/PHOTOCHEM/OUTPUT/out.out /Users/Will/Documents/FDL/results/run_2_1\n",
      "DEBUG _copy_container_file: docker cp gifted_pike:/code/atmos/PHOTOCHEM/OUTPUT/out.dist /Users/Will/Documents/FDL/results/run_2_1\n",
      "DEBUG _copy_container_file: docker cp gifted_pike:/code/atmos/PHOTOCHEM/INPUTFILES/species.dat /Users/Will/Documents/FDL/results/run_2_1\n",
      "DEBUG _copy_container_file: docker cp gifted_pike:/code/atmos/PHOTOCHEM/in.dist /Users/Will/Documents/FDL/results/run_2_1\n",
      "DEBUG _run_photochem: cp  /code/atmos/PHOTOCHEM/OUTPUT/out.dist /PHOTOCHEM/in.dist.\n",
      "photochem converged\n",
      "DEBUG _write_container_file: docker cp /Users/Will/Documents/FDL/results/run_2_0/TempIn.dat gifted_pike:/code/atmos/CLIMA/IO/TempIn.dat\n",
      "DEBUG _copy_container_file: docker cp gifted_pike:/code/atmos/CLIMA/IO/input_clima.dat /var/folders/t1/xhhxt12502bcgyn1r77j10m00000gn/T/tmp4pf430m7\n",
      "DEBUG _write_container_file: docker cp /var/folders/t1/xhhxt12502bcgyn1r77j10m00000gn/T/tmpaf3f6_77 gifted_pike:/code/atmos/CLIMA/IO/input_clima.dat\n",
      "DEBUG _run_clima: sed -i 's/IUP=       1/IUP=       0/g' /code/atmos/CLIMA/IO/input_clima.dat\n",
      "running clima with 15 steps ...\n",
      "finished clima\n",
      "DEBUG _run_clima: Clima took 11 seconds\n",
      "DEBUG _copy_container_file: docker cp gifted_pike:/code/atmos/CLIMA/IO/clima_allout.tab /Users/Will/Documents/FDL/results/run_2_1\n",
      "DEBUG _copy_container_file: docker cp gifted_pike:/code/atmos/CLIMA/IO/TempOut.dat /Users/Will/Documents/FDL/results/run_2_1\n",
      "DEBUG _copy_container_file: docker cp gifted_pike:/code/atmos/CLIMA/IO/TempIn.dat /Users/Will/Documents/FDL/results/run_2_1\n",
      "clima converged\n",
      "parse_clima finished\n",
      "flux tables:  4\n",
      "mixing ratio tables:  4\n",
      "Writing /Users/Will/Documents/FDL/results/run_2_1/parsed_photochem_fluxes.csv\n",
      "Writing /Users/Will/Documents/FDL/results/run_2_1/parsed_photochem_mixing_ratios.csv\n",
      "\n",
      "2 0.27\n",
      "running atmos with args:\n",
      "{'species_concentrations': {'O2': 0.27}, 'max_photochem_iterations': 10000, 'max_clima_steps': 15, 'output_directory': '/Users/Will/Documents/FDL/results/run_2_2', 'previous_photochem_solution': '/Users/Will/Documents/FDL/results/run_2_1/out.dist', 'previous_clima_solution': '/Users/Will/Documents/FDL/results/run_2_1/TempIn.dat'}\n",
      "input arguments:\n",
      "{'O2': 0.27}\n",
      "10000\n",
      "15\n",
      "/Users/Will/Documents/FDL/results/run_2_1/out.dist\n",
      "/Users/Will/Documents/FDL/results/run_2_1/TempIn.dat\n",
      "/Users/Will/Documents/FDL/results/run_2_2\n",
      "DEBUG run: cd /code/atmos\n",
      "DEBUG _copy_container_file: docker cp gifted_pike:/code/atmos/PHOTOCHEM/INPUTFILES/species.dat /var/folders/t1/xhhxt12502bcgyn1r77j10m00000gn/T/tmpvr1vuwu1\n",
      "DEBUG _write_container_file: docker cp /var/folders/t1/xhhxt12502bcgyn1r77j10m00000gn/T/tmp97v6ojg4 gifted_pike:/code/atmos/PHOTOCHEM/INPUTFILES/species.dat\n",
      "Modified species file with:\n",
      "{'O2': 0.27}\n",
      "copying previous photochem solution, from /Users/Will/Documents/FDL/results/run_2_1/out.dist to /code/atmos/PHOTOCHEM/in.dist\n",
      "DEBUG _write_container_file: docker cp /Users/Will/Documents/FDL/results/run_2_1/out.dist gifted_pike:/code/atmos/PHOTOCHEM/in.dist\n",
      "DEBUG _copy_container_file: docker cp gifted_pike:/code/atmos/PHOTOCHEM/OUTPUT/out.out /var/folders/t1/xhhxt12502bcgyn1r77j10m00000gn/T/tmpjox_vd6x\n",
      "photochem finished after 92 iterations\n",
      "DEBUG _run_photochem: photochem took 20 seconds\n",
      "DEBUG _copy_container_file: docker cp gifted_pike:/code/atmos/PHOTOCHEM/OUTPUT/out.out /Users/Will/Documents/FDL/results/run_2_2\n",
      "DEBUG _copy_container_file: docker cp gifted_pike:/code/atmos/PHOTOCHEM/OUTPUT/out.dist /Users/Will/Documents/FDL/results/run_2_2\n",
      "DEBUG _copy_container_file: docker cp gifted_pike:/code/atmos/PHOTOCHEM/INPUTFILES/species.dat /Users/Will/Documents/FDL/results/run_2_2\n",
      "DEBUG _copy_container_file: docker cp gifted_pike:/code/atmos/PHOTOCHEM/in.dist /Users/Will/Documents/FDL/results/run_2_2\n",
      "DEBUG _run_photochem: cp  /code/atmos/PHOTOCHEM/OUTPUT/out.dist /PHOTOCHEM/in.dist.\n",
      "photochem converged\n",
      "DEBUG _write_container_file: docker cp /Users/Will/Documents/FDL/results/run_2_1/TempIn.dat gifted_pike:/code/atmos/CLIMA/IO/TempIn.dat\n",
      "DEBUG _copy_container_file: docker cp gifted_pike:/code/atmos/CLIMA/IO/input_clima.dat /var/folders/t1/xhhxt12502bcgyn1r77j10m00000gn/T/tmpyj9kkqnk\n",
      "DEBUG _write_container_file: docker cp /var/folders/t1/xhhxt12502bcgyn1r77j10m00000gn/T/tmplqudz0yi gifted_pike:/code/atmos/CLIMA/IO/input_clima.dat\n"
     ]
    },
    {
     "name": "stdout",
     "output_type": "stream",
     "text": [
      "DEBUG _run_clima: sed -i 's/IUP=       1/IUP=       0/g' /code/atmos/CLIMA/IO/input_clima.dat\n",
      "running clima with 15 steps ...\n",
      "finished clima\n",
      "DEBUG _run_clima: Clima took 12 seconds\n",
      "DEBUG _copy_container_file: docker cp gifted_pike:/code/atmos/CLIMA/IO/clima_allout.tab /Users/Will/Documents/FDL/results/run_2_2\n",
      "DEBUG _copy_container_file: docker cp gifted_pike:/code/atmos/CLIMA/IO/TempOut.dat /Users/Will/Documents/FDL/results/run_2_2\n",
      "DEBUG _copy_container_file: docker cp gifted_pike:/code/atmos/CLIMA/IO/TempIn.dat /Users/Will/Documents/FDL/results/run_2_2\n",
      "clima converged\n",
      "parse_clima finished\n",
      "flux tables:  4\n",
      "mixing ratio tables:  4\n",
      "Writing /Users/Will/Documents/FDL/results/run_2_2/parsed_photochem_fluxes.csv\n",
      "Writing /Users/Will/Documents/FDL/results/run_2_2/parsed_photochem_mixing_ratios.csv\n",
      "\n"
     ]
    }
   ],
   "source": [
    "base_conc = 0.25\n",
    "for it in range(0, 3):\n",
    "    concentration = base_conc + float(it)/100\n",
    "    print(it, concentration)\n",
    "    \n",
    "    args = {\n",
    "        'species_concentrations' : {'O2' : concentration},\n",
    "        'max_photochem_iterations' : 10000, \n",
    "        'max_clima_steps' : 15, \n",
    "        'output_directory' : '/Users/Will/Documents/FDL/results/run_2_{0}'.format(it),\n",
    "    }\n",
    "    if it > 0:\n",
    "        args['previous_photochem_solution'] = '/Users/Will/Documents/FDL/results/run_2_{0}/out.dist'.format(it-1)\n",
    "        args['previous_clima_solution'] = '/Users/Will/Documents/FDL/results/run_2_{0}/TempIn.dat'.format(it-1)\n",
    "    print('running atmos with args:')\n",
    "    print(args)\n",
    "    atmos.run(**args)\n",
    "    print('')"
   ]
  },
  {
   "cell_type": "code",
   "execution_count": 3,
   "metadata": {},
   "outputs": [
    {
     "data": {
      "text/plain": [
       "{'atmos_start_time': 1533147956,\n",
       " 'photochem_duration': 20,\n",
       " 'photochem_iterations': 92,\n",
       " 'clima_duration': 12,\n",
       " 'atmos_run_duraton': 35,\n",
       " 'input_max_clima_iterations': 15,\n",
       " 'input_max_photochem_iterations': 10000,\n",
       " 'input_species_concentrations': {'O2': 0.27}}"
      ]
     },
     "execution_count": 3,
     "metadata": {},
     "output_type": "execute_result"
    }
   ],
   "source": [
    "atmos.get_metadata()\n"
   ]
  },
  {
   "cell_type": "code",
   "execution_count": 4,
   "metadata": {},
   "outputs": [
    {
     "name": "stdout",
     "output_type": "stream",
     "text": [
      "Exiting...\n",
      "Container killed.\n"
     ]
    }
   ],
   "source": [
    "atmos.close()"
   ]
  }
 ],
 "metadata": {
  "kernelspec": {
   "display_name": "Python 3",
   "language": "python",
   "name": "python3"
  },
  "language_info": {
   "codemirror_mode": {
    "name": "ipython",
    "version": 3
   },
   "file_extension": ".py",
   "mimetype": "text/x-python",
   "name": "python",
   "nbconvert_exporter": "python",
   "pygments_lexer": "ipython3",
   "version": "3.6.5"
  }
 },
 "nbformat": 4,
 "nbformat_minor": 2
}
