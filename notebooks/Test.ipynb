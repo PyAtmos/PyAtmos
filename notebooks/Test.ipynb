{
 "cells": [
  {
   "cell_type": "code",
   "execution_count": 3,
   "metadata": {},
   "outputs": [
    {
     "name": "stdout",
     "output_type": "stream",
     "text": [
      "Initializing Docker...\n",
      "Pulling latest image... registry.gitlab.com/frontierdevelopmentlab/astrobiology/pyatmos\n",
      "Initialization complete: 2018-07-18 11:42:03\n",
      "Exiting...\n",
      "Container killed.\n",
      "Starting Docker container...\n",
      "Container 'youthful_heisenberg' running at 2018-07-18 11:42:05.\n"
     ]
    }
   ],
   "source": [
    "import pyatmos\n",
    "atmos = pyatmos.Simulation(DEBUG=True)\n",
    "atmos.start()"
   ]
  },
  {
   "cell_type": "code",
   "execution_count": 4,
   "metadata": {},
   "outputs": [
    {
     "name": "stdout",
     "output_type": "stream",
     "text": [
      "Modified species file with:\n",
      "{}\n",
      "photochem finished after 35 iterations\n",
      "DEBUG: photochem took 3 seconds\n",
      "photochem converged\n",
      "running clima with 400 steps ...\n",
      "finished clima\n",
      "DEBUG: Clima took 234 seconds\n"
     ]
    },
    {
     "data": {
      "text/plain": [
       "1"
      ]
     },
     "execution_count": 4,
     "metadata": {},
     "output_type": "execute_result"
    }
   ],
   "source": [
    "atmos.run(species_concentrations={}, max_photochem_iterations=10000, n_clima_steps=400)"
   ]
  },
  {
   "cell_type": "code",
   "execution_count": 3,
   "metadata": {},
   "outputs": [
    {
     "ename": "NameError",
     "evalue": "name 'last_line' is not defined",
     "output_type": "error",
     "traceback": [
      "\u001b[0;31m---------------------------------------------------------------------------\u001b[0m",
      "\u001b[0;31mNameError\u001b[0m                                 Traceback (most recent call last)",
      "\u001b[0;32m<ipython-input-3-324ca5af3d2d>\u001b[0m in \u001b[0;36m<module>\u001b[0;34m()\u001b[0m\n\u001b[0;32m----> 1\u001b[0;31m \u001b[0mprint\u001b[0m\u001b[0;34m(\u001b[0m\u001b[0mlast_line\u001b[0m\u001b[0;34m)\u001b[0m\u001b[0;34m\u001b[0m\u001b[0m\n\u001b[0m",
      "\u001b[0;31mNameError\u001b[0m: name 'last_line' is not defined"
     ]
    }
   ],
   "source": [
    "print(last_line)"
   ]
  },
  {
   "cell_type": "code",
   "execution_count": 7,
   "metadata": {},
   "outputs": [
    {
     "name": "stdout",
     "output_type": "stream",
     "text": [
      "Running 1 iterations...\n",
      "Iteration 1\n",
      "Done.\n"
     ]
    }
   ],
   "source": [
    "simul.run(iterations=1)"
   ]
  },
  {
   "cell_type": "code",
   "execution_count": 4,
   "metadata": {},
   "outputs": [
    {
     "data": {
      "text/plain": [
       "{'DTAU0': 0.5,\n",
       " 'FAC': 4.0,\n",
       " 'FRAK': 1.0,\n",
       " 'G': 980.0,\n",
       " 'ICONSERV': 0.0,\n",
       " 'ICOUPLE': 1.0,\n",
       " 'IHAZE': 0.0,\n",
       " 'IMET': 0.0,\n",
       " 'IMETETH': 0.0,\n",
       " 'IMW': 2.0,\n",
       " 'INVERSE': 0.0,\n",
       " 'IO3': 1.0,\n",
       " 'IUP': 1.0,\n",
       " 'NSTEPS': 10.0,\n",
       " 'P0': 7e-06,\n",
       " 'PGO': 1.0,\n",
       " 'RSURF': 0.8,\n",
       " 'SOLCON': 1.0,\n",
       " 'SRFALB': 0.316,\n",
       " 'STARR': 'Sun',\n",
       " 'TG0': 288.0,\n",
       " 'TSTRAT': 200.0,\n",
       " 'ZCON': 20.0,\n",
       " 'ZY': 60.0,\n",
       " 'dtmax': 10000.0,\n",
       " 'icealbedo': 0.0,\n",
       " 'monsize': 0.0,\n",
       " 'nga': 6.0}"
      ]
     },
     "execution_count": 4,
     "metadata": {},
     "output_type": "execute_result"
    }
   ],
   "source": [
    "simul.get_input_clima()"
   ]
  },
  {
   "cell_type": "code",
   "execution_count": 5,
   "metadata": {},
   "outputs": [
    {
     "data": {
      "text/plain": [
       "{'AGL': 0.5,\n",
       " 'EPSJ': 1e-09,\n",
       " 'HCDENS': 0.63,\n",
       " 'ICOUPLE': 0.0,\n",
       " 'INO': 1.0,\n",
       " 'IO2': 0.0,\n",
       " 'ISEASON': 1.0,\n",
       " 'IZYO2': 0.0,\n",
       " 'LGRID': 0.0,\n",
       " 'PRONO': 1000000000.0,\n",
       " 'ZY': 50.0,\n",
       " 'frak': 0.0,\n",
       " 'monsize': 0.0}"
      ]
     },
     "execution_count": 5,
     "metadata": {},
     "output_type": "execute_result"
    }
   ],
   "source": [
    "simul.get_input_photochem()"
   ]
  },
  {
   "cell_type": "code",
   "execution_count": 5,
   "metadata": {},
   "outputs": [
    {
     "name": "stdout",
     "output_type": "stream",
     "text": [
      "Exiting...\n",
      "Container killed.\n"
     ]
    }
   ],
   "source": [
    "simul.close()"
   ]
  },
  {
   "cell_type": "code",
   "execution_count": null,
   "metadata": {
    "collapsed": true
   },
   "outputs": [],
   "source": []
  }
 ],
 "metadata": {
  "kernelspec": {
   "display_name": "Python 3",
   "language": "python",
   "name": "python3"
  },
  "language_info": {
   "codemirror_mode": {
    "name": "ipython",
    "version": 3
   },
   "file_extension": ".py",
   "mimetype": "text/x-python",
   "name": "python",
   "nbconvert_exporter": "python",
   "pygments_lexer": "ipython3",
   "version": "3.6.5"
  }
 },
 "nbformat": 4,
 "nbformat_minor": 2
}
