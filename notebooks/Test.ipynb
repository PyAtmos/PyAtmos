{
 "cells": [
  {
   "cell_type": "code",
   "execution_count": 1,
   "metadata": {},
   "outputs": [
    {
     "name": "stdout",
     "output_type": "stream",
     "text": [
      "Initializing Docker...\n",
      "Pulling latest image... registry.gitlab.com/frontierdevelopmentlab/astrobiology/pyatmos\n",
      "Initialization complete: 2018-08-01 14:18:47\n",
      "Starting Docker container...\n",
      "Container 'eloquent_ardinghelli' running at 2018-08-01 14:18:48.\n"
     ]
    }
   ],
   "source": [
    "import pyatmos\n",
    "atmos = pyatmos.Simulation(docker_image=\"registry.gitlab.com/frontierdevelopmentlab/astrobiology/pyatmos\",\n",
    "                           DEBUG=True)\n",
    "atmos.start()"
   ]
  },
  {
   "cell_type": "code",
   "execution_count": 2,
   "metadata": {},
   "outputs": [
    {
     "name": "stdout",
     "output_type": "stream",
     "text": [
      "0 0.25\n",
      "running atmos with args:\n",
      "{'species_concentrations': {'O2': 0.25}, 'max_photochem_iterations': 10000, 'max_clima_steps': 2, 'output_directory': '/Users/Will/Documents/FDL/results/run_4_0'}\n",
      "DEBUG run: cd /code/atmos\n",
      "DEBUG _copy_container_file: docker cp eloquent_ardinghelli:/code/atmos/PHOTOCHEM/INPUTFILES/species.dat /var/folders/t1/xhhxt12502bcgyn1r77j10m00000gn/T/tmp_7_wpu10\n",
      "DEBUG _write_container_file: docker cp /var/folders/t1/xhhxt12502bcgyn1r77j10m00000gn/T/tmphwbm6a3_ eloquent_ardinghelli:/code/atmos/PHOTOCHEM/INPUTFILES/species.dat\n",
      "Modified species file with:\n",
      "{'O2': 0.25}\n",
      "DEBUG _copy_container_file: docker cp eloquent_ardinghelli:/code/atmos/PHOTOCHEM/OUTPUT/out.out /var/folders/t1/xhhxt12502bcgyn1r77j10m00000gn/T/tmp8xnzkl9a\n",
      "photochem finished after 161 iterations\n",
      "DEBUG _run_photochem: photochem took 31 seconds\n",
      "DEBUG _copy_container_file: docker cp eloquent_ardinghelli:/code/atmos/PHOTOCHEM/OUTPUT/out.out /Users/Will/Documents/FDL/results/run_4_0\n",
      "DEBUG _copy_container_file: docker cp eloquent_ardinghelli:/code/atmos/PHOTOCHEM/OUTPUT/out.dist /Users/Will/Documents/FDL/results/run_4_0\n",
      "DEBUG _copy_container_file: docker cp eloquent_ardinghelli:/code/atmos/PHOTOCHEM/INPUTFILES/species.dat /Users/Will/Documents/FDL/results/run_4_0\n",
      "DEBUG _copy_container_file: docker cp eloquent_ardinghelli:/code/atmos/PHOTOCHEM/in.dist /Users/Will/Documents/FDL/results/run_4_0\n",
      "DEBUG _run_photochem: cp  /code/atmos/PHOTOCHEM/OUTPUT/out.dist /PHOTOCHEM/in.dist.\n",
      "photochem converged\n",
      "DEBUG _run_clima: cp  /code/atmos/CLIMA/IO/TempOut.dat /code/atmos/CLIMA/IO/TempIn.dat\n",
      "DEBUG _copy_container_file: docker cp eloquent_ardinghelli:/code/atmos/CLIMA/IO/input_clima.dat /var/folders/t1/xhhxt12502bcgyn1r77j10m00000gn/T/tmpfjncdjhv\n",
      "DEBUG _write_container_file: docker cp /var/folders/t1/xhhxt12502bcgyn1r77j10m00000gn/T/tmplgam7y2j eloquent_ardinghelli:/code/atmos/CLIMA/IO/input_clima.dat\n",
      "DEBUG _run_clima: sed -i 's/IUP=       1/IUP=       0/g' /code/atmos/CLIMA/IO/input_clima.dat\n",
      "running clima with 2 steps ...\n",
      "finished clima\n",
      "DEBUG _run_clima: Clima took 3 seconds\n",
      "DEBUG _copy_container_file: docker cp eloquent_ardinghelli:/code/atmos/CLIMA/IO/clima_allout.tab /Users/Will/Documents/FDL/results/run_4_0\n",
      "DEBUG _copy_container_file: docker cp eloquent_ardinghelli:/code/atmos/CLIMA/IO/TempOut.dat /Users/Will/Documents/FDL/results/run_4_0\n",
      "DEBUG _copy_container_file: docker cp eloquent_ardinghelli:/code/atmos/CLIMA/IO/TempIn.dat /Users/Will/Documents/FDL/results/run_4_0\n",
      "clima converged\n",
      "parse_clima finished\n",
      "flux tables:  4\n",
      "mixing ratio tables:  4\n",
      "\n"
     ]
    }
   ],
   "source": [
    "base_conc = 0.25\n",
    "for it in range(0, 1):\n",
    "    concentration = base_conc + float(it)/100\n",
    "    print(it, concentration)\n",
    "    \n",
    "    args = {\n",
    "        'species_concentrations' : {'O2' : concentration},\n",
    "        'max_photochem_iterations' : 10000, \n",
    "        'max_clima_steps' : 2, \n",
    "        'output_directory' : '/Users/Will/Documents/FDL/results/run_4_{0}'.format(it),\n",
    "    }\n",
    "    if it > 0:\n",
    "        args['previous_photochem_solution'] = '/Users/Will/Documents/FDL/results/run_4_{0}/out.dist'.format(it-1)\n",
    "        args['previous_clima_solution'] = '/Users/Will/Documents/FDL/results/run_4_{0}/TempOut.dat'.format(it-1)\n",
    "    print('running atmos with args:')\n",
    "    print(args)\n",
    "    atmos.run(**args)\n",
    "    print('')"
   ]
  },
  {
   "cell_type": "code",
   "execution_count": 3,
   "metadata": {},
   "outputs": [
    {
     "data": {
      "text/plain": [
       "287.97"
      ]
     },
     "execution_count": 3,
     "metadata": {},
     "output_type": "execute_result"
    }
   ],
   "source": [
    "atmos.get_surface_temperature('/Users/Will/Documents/FDL/results/run_3_1/parsed_clima_final.csv')\n"
   ]
  },
  {
   "cell_type": "code",
   "execution_count": 4,
   "metadata": {},
   "outputs": [
    {
     "data": {
      "text/plain": [
       "1.0298"
      ]
     },
     "execution_count": 4,
     "metadata": {},
     "output_type": "execute_result"
    }
   ],
   "source": [
    "atmos.get_surface_pressure('/Users/Will/Documents/FDL/results/run_3_1/parsed_clima_final.csv')"
   ]
  },
  {
   "cell_type": "code",
   "execution_count": 5,
   "metadata": {},
   "outputs": [],
   "source": [
    "import pandas as pd\n",
    "df = pd.read_csv('/Users/Will/Documents/FDL/results/run_4_0/parsed_clima_iterations.csv')"
   ]
  },
  {
   "cell_type": "code",
   "execution_count": 6,
   "metadata": {},
   "outputs": [],
   "source": [
    "n_iterations = df['NST'].max()\n",
    "new_df = df[df['NST'] == n_iterations]"
   ]
  },
  {
   "cell_type": "code",
   "execution_count": 14,
   "metadata": {},
   "outputs": [
    {
     "data": {
      "text/plain": [
       "0.00186"
      ]
     },
     "execution_count": 14,
     "metadata": {},
     "output_type": "execute_result"
    }
   ],
   "source": [
    "float(new_df['DIVFrms'])"
   ]
  },
  {
   "cell_type": "code",
   "execution_count": 8,
   "metadata": {},
   "outputs": [
    {
     "data": {
      "text/plain": [
       "Index(['NST', 'JCONV', 'CHG', 'dt0', 'DIVF(1)', 'DIVFrms', 'DT(ND)', 'T(ND)'], dtype='object')"
      ]
     },
     "execution_count": 8,
     "metadata": {},
     "output_type": "execute_result"
    }
   ],
   "source": [
    "new_df.columns"
   ]
  },
  {
   "cell_type": "code",
   "execution_count": 9,
   "metadata": {},
   "outputs": [
    {
     "data": {
      "text/plain": [
       "Index(['NST', 'JCONV', 'CHG', 'dt0', 'DIVF(1)', 'DIVFrms', 'DT(ND)', 'T(ND)'], dtype='object')"
      ]
     },
     "execution_count": 9,
     "metadata": {},
     "output_type": "execute_result"
    }
   ],
   "source": [
    "new_df.keys()"
   ]
  },
  {
   "cell_type": "code",
   "execution_count": 10,
   "metadata": {},
   "outputs": [
    {
     "data": {
      "text/plain": [
       "1    74.0\n",
       "Name: JCONV, dtype: float64"
      ]
     },
     "execution_count": 10,
     "metadata": {},
     "output_type": "execute_result"
    }
   ],
   "source": [
    "new_df.JCONV"
   ]
  },
  {
   "cell_type": "code",
   "execution_count": 43,
   "metadata": {},
   "outputs": [
    {
     "name": "stdout",
     "output_type": "stream",
     "text": [
      "Exiting...\n",
      "Container killed.\n"
     ]
    }
   ],
   "source": [
    "atmos.close()"
   ]
  },
  {
   "cell_type": "code",
   "execution_count": null,
   "metadata": {},
   "outputs": [],
   "source": []
  }
 ],
 "metadata": {
  "kernelspec": {
   "display_name": "Python 3",
   "language": "python",
   "name": "python3"
  },
  "language_info": {
   "codemirror_mode": {
    "name": "ipython",
    "version": 3
   },
   "file_extension": ".py",
   "mimetype": "text/x-python",
   "name": "python",
   "nbconvert_exporter": "python",
   "pygments_lexer": "ipython3",
   "version": "3.6.5"
  }
 },
 "nbformat": 4,
 "nbformat_minor": 2
}
